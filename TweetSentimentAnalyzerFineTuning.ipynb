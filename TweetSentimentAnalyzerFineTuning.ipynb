{
 "cells": [
  {
   "cell_type": "code",
   "execution_count": null,
   "metadata": {
    "colab": {
     "base_uri": "https://localhost:8080/"
    },
    "id": "uS62CW4eYouL",
    "outputId": "e929010b-69ac-4655-cb1a-bd67bb03aad9"
   },
   "outputs": [],
   "source": [
    "!pip install datasets"
   ]
  },
  {
   "cell_type": "code",
   "execution_count": null,
   "metadata": {
    "colab": {
     "base_uri": "https://localhost:8080/"
    },
    "id": "5P4yuytxv2L4",
    "outputId": "b01b4757-35c3-45af-9b9c-917df2ce0a46"
   },
   "outputs": [],
   "source": [
    "!pip install datasets --upgrade"
   ]
  },
  {
   "cell_type": "code",
   "execution_count": null,
   "metadata": {
    "colab": {
     "base_uri": "https://localhost:8080/",
     "height": 368,
     "referenced_widgets": [
      "00a6f964540842d79920c1cd3c239571",
      "c8b6dc19dc57414b8a13160aaf567c8c",
      "d58bd6634fbd45509037a6acf3eefc19",
      "a23849935d0240ada48ddbe06cc06705",
      "25ff5f6252cd460db4142998fc95f04b",
      "e12eec5a341a4f3ea5951ef7dc9ed4d4",
      "67ec36a2211140aebde504a8e7e13d80",
      "afcfb6264cca42da955beed920c771b5",
      "9a795b496bd040e88d161b3f3a60c480",
      "04851abecce448c68c83d6223673d095",
      "08e8a51017c840b88db4f75ed53cef4c",
      "58fcbc7f3dd24717908c402a1fcdfdd7",
      "1a8cd2e84d6a4a99aa8c35922233a0df",
      "b122b6d3e8b04ac9af3c024e5802ebc4",
      "5572c5db9a5844dcad8ce421cde7d4ce",
      "6f174a44106842839e5b5b95b4a75eef",
      "0b0347e27afb4ba3a0ab10f700beb132",
      "29a7caccb6ab452da4bf3cdaf2105a37",
      "97c7b32a79d545fcb658a5c0d830a434",
      "323f3a3cf51040d78379bf209ec111eb",
      "ef07ae409ac9403cae540d442243122f",
      "a39a16c813864f51b11b72f2332fbf40",
      "79f0bf826f7045dcb362356733708850",
      "a6e2cd4c7add429e9830ce83ad36cdc3",
      "50c8e5d63c994c208d8bbc9777a2d9b2",
      "7ce72dbf46204b6d97a487d971e1767a",
      "ba39c9f7799d4cb5bc065997ff7c2a5a",
      "442c947995524bbdb973317ff96e5263",
      "fe7d6103d9ab4496a5837cb42758e32e",
      "5b392159fded45d2b7ecbbdeb35454b5",
      "1d765dc871e0440b90da151462cf0a0b",
      "f04ae8b57b344efdb8d88bac3575986b",
      "0c331f6f9eeb486b8ba4209a085ae99c",
      "69534f2bdf2e4761a54b405d74b0d229",
      "7f755e557a9447f2b435894e0e6efb2c",
      "55f6f34eddda44d2882998c4833c09a0",
      "5a043e38e51c4ea695e268522b859a92",
      "a2dd856228d64c71af27e23c44a015e7",
      "bd37f1d14ce74ddcb3bfee6aecd04dee",
      "9db778bf44b54999887e42257a868b16",
      "daba51df45ac4567a447fc0ae6ef8046",
      "2422cb4aa27a4102bfb50256b0cd376d",
      "e9d5da4f6c91413185486b6009f1ebc0",
      "4781cd14f554417db852bfd4a32411e7",
      "2c57453f4c0741b48b19dc0fa831b1cc",
      "4a959ece204e44c1b7b88ba3ea0fbc2c",
      "95697235216e4acc919a0c6e3a42bc0e",
      "b68fc2abd277479fb096010b3f6c0e95",
      "29a175ddba42498b9d50c23405d9d072",
      "54a2c383ebfb409caaf654406efc8c45",
      "869ae010d6ea45d39f00a58f458295f6",
      "35eaea190bd14e759b4d230395d64502",
      "113f8052ebe44a3696227f6d6ffd6128",
      "ee0714c62b7e42d79b168dceed8f9dea",
      "85d73ccbc17c42cc83deb151d2a188c3",
      "210d061872354023bec305646dc6118c",
      "63a6e04abf5a46c288902699f854a6eb",
      "936f2037da2d46d3ad5caae01fe23696",
      "5c79c32a03854356a1913d1cf9c256b2",
      "0ad9f3808fe5477eb2954e0e21db2326",
      "46c1fb5f2d6a484c85d913b49bc678b6",
      "a65c96131ba647f686b5350adb29407e",
      "66a26475860e40a8ad16fc77b6a844a0",
      "ce4cb420d0934114b4ce2475ddbc6d7c",
      "a30d9d98154a476a93e644df865a9de5",
      "2027a97f40ba4f39b6a3111abfabc2e8",
      "253c9863df04404ab62a431e980670c7",
      "9080b0457a8141e9ba25478d6a8c05a5",
      "9c2408cbe40d4cdeae50a9a53217cab2",
      "8b4be492334a433d95f3694d04f9a19b",
      "aa7964fce59c4af7bce5d1b5ad839b9b",
      "2683acef3ff5461699f4e70457d0d668",
      "ca182dded1194789818c95dfb9123caf",
      "7de76e9923ea4e6a8f74e8e18c8392d5",
      "d960dc763ef04f7a9c551f1cc209d256",
      "5f24669f622b418e87ccd107ad2e60da",
      "35eb43d7d4524197b1af14a6aaaff6fd"
     ]
    },
    "id": "ZQJQxnGaa2gk",
    "outputId": "733c67b4-2d5f-46b2-fe75-d9118a737040"
   },
   "outputs": [],
   "source": [
    "from datasets import load_dataset\n",
    "\n",
    "emotions = load_dataset(\"emotion\")"
   ]
  },
  {
   "cell_type": "code",
   "execution_count": null,
   "metadata": {
    "colab": {
     "base_uri": "https://localhost:8080/"
    },
    "id": "12AhXdyBwHBP",
    "outputId": "651ed318-8e1c-4c9f-dc64-c605f1f7bb8c"
   },
   "outputs": [],
   "source": [
    "print(emotions)"
   ]
  },
  {
   "cell_type": "code",
   "execution_count": null,
   "metadata": {
    "colab": {
     "base_uri": "https://localhost:8080/"
    },
    "id": "_YPrY-3XwLn5",
    "outputId": "f108a6fb-9db9-4903-fc9a-0c0cad376ba7"
   },
   "outputs": [],
   "source": [
    "training_ds = emotions[\"train\"]\n",
    "print(training_ds[0])"
   ]
  },
  {
   "cell_type": "code",
   "execution_count": null,
   "metadata": {
    "colab": {
     "base_uri": "https://localhost:8080/",
     "height": 145,
     "referenced_widgets": [
      "c887c5caf47d4a5c980aabdeea3af123",
      "12738c85dc2b4df4a9d86f017117a19a",
      "e108b65cbf08448eabb1f3e67a123235",
      "35b6968b79574fa9aaf36d048eea8806",
      "2428e87176504d2685d74af06f8586d8",
      "205bdee3dbb54161bb32b6aa8d1a2bec",
      "1e3ee2cc2d9a42aa8aa2c10ec8969a99",
      "d7cea0d2594b4902ac1b78a7b6e11c0e",
      "8020afeb18264e789f1a9c2e0f58fd9a",
      "3823a7678b1d41629accf52f0a305fd2",
      "b5189478a5f04c75a5a963ce512fabd1",
      "2e0d75b02a864fcc9a9f3a6efcc6e6d5",
      "3424609ca7384018a1b09f9b2113657c",
      "0de8fede07074a12bf5b794f96ef3e78",
      "d940a432c10745598f03aa6da31673e2",
      "c456df64a4df4aa4a9f6786f84ba643e",
      "56a685b20d7e406495dca27dc34692cb",
      "2d1287cde28d46e9b780b422ec88052f",
      "7ddb319c30514510b9d1db635bcc25cb",
      "7da05d9048ad4c6c8e16f3b30f0bee99",
      "5e12178653674d019ff440f1c008832a",
      "446534ccfb5d44f9b077240099cfd2b0",
      "988057d85bdc42fbb1cbaa3d79cec0c8",
      "ccbb569883fa4e8d9dae0de106c8c03b",
      "f25700b7643d45358d8c698bca81fa09",
      "eafbaa93182241c7ab61d4f2bc45a5bd",
      "1dd691f471c74a50af42dc0887af9a6a",
      "17cb6e6418044fbea688f2ac74d55e55",
      "f3db0aef6399450caaaf7ce4d33e6a4e",
      "6545a56c4e434f378ace8e4ffc3dc4a1",
      "61a2f67ba7f44586b315615e355410a6",
      "76ab59c73ff64146b410aaaf1f8e2a04",
      "8d8a6d1cd1ce4445aa30038525012fa4",
      "24ff5ab0b3ad4261b8f3408c76c13538",
      "4d7e65a5b4d842fc8e9860b44ffc13ce",
      "14a84d528876410c8eebc211a4a90e05",
      "c9f2925c974d414984b1b58e7cdd516c",
      "82ad44c6ccfc43348ce16542a5010e78",
      "500509fb912c41f7894471615e7b5f80",
      "38d32eb2d0eb4ce6b46cc0b961347e0e",
      "ec407336fd854a6f92c331df7663916b",
      "bbbac6b6ecb449ae80a9d24f82a7e583",
      "87a1370f8fba4ad288b1775fffbd4be0",
      "cd749934f2b24aaeaa123ff60f2c92aa"
     ]
    },
    "id": "ErzeNXhtwhLW",
    "outputId": "6025a829-163e-4ac4-bee7-23ed5a48fbfe"
   },
   "outputs": [],
   "source": [
    "from transformers import AutoTokenizer\n",
    "\n",
    "model_ckpt = \"distilbert-base-uncased\"\n",
    "tokenizer = AutoTokenizer.from_pretrained(model_ckpt)"
   ]
  },
  {
   "cell_type": "code",
   "execution_count": null,
   "metadata": {
    "id": "P1FlBB6BxipP"
   },
   "outputs": [],
   "source": [
    "def tokenize(batch):\n",
    "  return tokenizer(batch[\"text\"], padding=True, truncation=True)"
   ]
  },
  {
   "cell_type": "code",
   "execution_count": null,
   "metadata": {
    "colab": {
     "base_uri": "https://localhost:8080/",
     "height": 113,
     "referenced_widgets": [
      "a521b54cb1dd4fe9aa93b946d72a9cd2",
      "b9d1e0ffa1594dd0bcc18740263063cf",
      "2caea320287447c09efc900fa3ba5ba8",
      "0f1bf100d79545daabeb5099d146c025",
      "d1bea2a6e0774b9a914e71656ee6eacf",
      "75befdf823754b9dbd2edae9da42de35",
      "c8ebc6a607554c52aec70784a66308e9",
      "e6e3a55366b248068e2b71e05a171d66",
      "0b3c512d90294807981f514c308bf417",
      "f3a6e3185d94497aad2427f38bada0d1",
      "3a45f2d859684bb3aee6c1734854a7e7",
      "6c489d7795734429a179a78d820c8a1c",
      "328a2439e3da41bfa67426f80907bb0e",
      "8eb6bf91fe8546c7b4d06f44ac63ce5c",
      "2b9c624b9c7347f18c06230de42ef6ce",
      "7dd61ecc7c6b4b558aec804c371c93ed",
      "0c7fdf05e913486d86ca8e37f3a317c9",
      "900ca2418c434433ad5788f3ecc3eecb",
      "56d4d7f59e1844d7a79b56891276fb2a",
      "2224e1becc254a4aa93b5039e8f26de6",
      "59b66ab461794b9989e9602d8de50b1c",
      "d08bd3c6d5f742e39d6426ced4fa3b91",
      "cdb5a56facf24329bd816b07db714040",
      "e097e7fc04e84f94880c7262bf72e479",
      "766836b9d0474176abbc8374fd482560",
      "3b7bb9606a8f4cb0bb8a573fe8dcb5ee",
      "65951e91783e47de969adb689cbf07e3",
      "fcf2d8a74b0f4c6baa6b23661e2122d1",
      "1fbcd9cf2fba4d2a86471fb074e3cfde",
      "6f2a3cb104694505a62d71919af7cb44",
      "51e721a06e55434fb7826b8807da8dd0",
      "13c219c900e44e07a1abf8413aa3d1a6",
      "4026a3870b7d462984e7190da64e19b1"
     ]
    },
    "id": "Ns5YfZYxxjpl",
    "outputId": "21fdff8a-cbbc-4bea-ae00-23ae875bfde8"
   },
   "outputs": [],
   "source": [
    "emotions_encoded = emotions.map(tokenize, batched=True, batch_size=None)"
   ]
  },
  {
   "cell_type": "code",
   "execution_count": null,
   "metadata": {
    "colab": {
     "base_uri": "https://localhost:8080/"
    },
    "id": "zMidFZNTxqWk",
    "outputId": "a635f5d9-62a0-4b24-b80e-e8825f4ade32"
   },
   "outputs": [],
   "source": [
    "print(emotions_encoded[\"train\"].column_names)"
   ]
  },
  {
   "cell_type": "code",
   "execution_count": null,
   "metadata": {
    "colab": {
     "base_uri": "https://localhost:8080/",
     "height": 140,
     "referenced_widgets": [
      "efd00e10994e42678199b5b079dff74c",
      "e7252fd8e80f46c79a4b113f6827d33e",
      "407a7f3e465e4c4bb9f6299876616c8a",
      "0534fa781ea745818b8e33f7f651d6f2",
      "76e7c9a58757490f8ddbed82c5032389",
      "44b6575d2a334850b6cd92f68cd73449",
      "e28022a7e9ea4e70b69ca9c92c873130",
      "60e7eebc5e2f4b0d9742bfb29a2ae779",
      "d588bb99aeac43ab9282afe1de8d4edb",
      "0ce978624514405faff08fc7a6e549fb",
      "795dc7b56d0d4ff59e26caf176e14737"
     ]
    },
    "id": "KCWYhCk4xwF3",
    "outputId": "de426683-ce75-4021-9d18-ea261c5cb822"
   },
   "outputs": [],
   "source": [
    "from transformers import AutoModelForSequenceClassification\n",
    "import torch\n",
    "num_labels = 6\n",
    "device = torch.device(\"cuda\" if torch.cuda.is_available() else \"cpu\")\n",
    "model = (AutoModelForSequenceClassification.from_pretrained(model_ckpt, num_labels=num_labels).to(device))"
   ]
  },
  {
   "cell_type": "code",
   "execution_count": null,
   "metadata": {
    "id": "9D5BeaBxybPP"
   },
   "outputs": [],
   "source": [
    "from sklearn.metrics import accuracy_score, f1_score\n",
    "def compute_metrics(pred):\n",
    "  labels = pred.label_ids\n",
    "  preds = pred.predictions.argmax(-1)\n",
    "  f1 = f1_score(labels, preds, average=\"weighted\")\n",
    "  acc = accuracy_score(labels, preds)\n",
    "  return {\"accuracy\": acc, \"f1\": f1}"
   ]
  },
  {
   "cell_type": "code",
   "execution_count": null,
   "metadata": {
    "id": "4rAMD9EozrWy"
   },
   "outputs": [],
   "source": [
    "from transformers import Trainer, TrainingArguments\n",
    "batch_size = 64\n",
    "logging_steps = len(emotions_encoded[\"train\"]) // batch_size\n",
    "model_name = \"finetuned-tweet-sentiment-analyzer\"\n",
    "training_args = TrainingArguments(output_dir=model_name,\n",
    "                                  num_train_epochs=2,\n",
    "                                  learning_rate=2e-5,\n",
    "                                  per_device_train_batch_size=batch_size,\n",
    "                                  per_device_eval_batch_size=batch_size,\n",
    "                                  weight_decay=0.01,\n",
    "                                  disable_tqdm=False,\n",
    "                                  logging_steps=logging_steps,\n",
    "                                  push_to_hub=True,\n",
    "                                  log_level=\"error\")"
   ]
  },
  {
   "cell_type": "code",
   "execution_count": null,
   "metadata": {
    "colab": {
     "base_uri": "https://localhost:8080/"
    },
    "id": "T7Mrye4K0h97",
    "outputId": "73327c77-0107-4855-c27d-e24b197c8d6c"
   },
   "outputs": [],
   "source": [
    "!pip install wandb"
   ]
  },
  {
   "cell_type": "code",
   "execution_count": null,
   "metadata": {
    "colab": {
     "base_uri": "https://localhost:8080/",
     "height": 17,
     "referenced_widgets": [
      "5e5c9bfc26e64b9e8bdca43bfe85abaa",
      "80678caa284a416faffa6a89ceadd539",
      "722593daf8fe419d90c42ed7489ee89d",
      "df3e384435cb4116b97555a40e72bdd8",
      "363490c2ba5a4154b2764638b22a6cbf",
      "ee1cbaf08f2b470096a2559259416be6",
      "e938b9a72f2244dfacb6031ddcfa4a6a",
      "9021f172e8954db8a857ef6ee267c79e",
      "a26c0d8da622465aa6537fce7129d521",
      "31c4f1f90e084a988d480ddf7c0011a0",
      "e03a6c081d71496abaf8bc394353d289",
      "cdcc51d8bbd94103bbffdb199020ca72",
      "758d00e63bc44ce4a120e5f2f40d37cb",
      "64f08372d030470dbc199f3198f8e4b6",
      "364a3fd7383a44bcbccbcb577327e8f0",
      "f0eec4b0b0cd45f5b92bfe23440e1b51",
      "3a79e292e0ad436b98940372401869a4",
      "a4bf4da288f8429884e41e90bb7f78f1",
      "1a49534533fe48fcb843457575b5ff82",
      "9ec0d4e4f6bb45e2b91bd2c0b4faa548"
     ]
    },
    "id": "82L_qSjskYsI",
    "outputId": "abff937f-1d92-4295-bc75-e288ef3e71fe"
   },
   "outputs": [],
   "source": [
    "from huggingface_hub import notebook_login\n",
    "notebook_login()"
   ]
  },
  {
   "cell_type": "code",
   "execution_count": null,
   "metadata": {
    "colab": {
     "base_uri": "https://localhost:8080/",
     "height": 459
    },
    "id": "RiyeXoMs0IhF",
    "outputId": "810e511e-c4f1-4863-9fdb-d67da9a4bf0e"
   },
   "outputs": [],
   "source": [
    "from transformers import Trainer\n",
    "trainer = Trainer(model=model, args=training_args,\n",
    "                  compute_metrics=compute_metrics,\n",
    "                  train_dataset=emotions_encoded[\"train\"],\n",
    "                  eval_dataset=emotions_encoded[\"validation\"],\n",
    "                  tokenizer=tokenizer)\n",
    "trainer.train();"
   ]
  },
  {
   "cell_type": "code",
   "execution_count": null,
   "metadata": {
    "colab": {
     "base_uri": "https://localhost:8080/",
     "height": 17
    },
    "id": "YaDSIK8ACm-p",
    "outputId": "b1b720a4-6634-4be9-f0d7-9bc165038195"
   },
   "outputs": [],
   "source": [
    "preds_output = trainer.predict(emotions_encoded[\"validation\"])"
   ]
  },
  {
   "cell_type": "code",
   "execution_count": null,
   "metadata": {
    "colab": {
     "base_uri": "https://localhost:8080/"
    },
    "id": "DZpS7YbTDcUz",
    "outputId": "d1354013-2bf2-4be7-db4a-d0ed52b91a07"
   },
   "outputs": [],
   "source": [
    "preds_output.metrics"
   ]
  },
  {
   "cell_type": "code",
   "execution_count": null,
   "metadata": {
    "id": "0oX-6H8LDid9"
   },
   "outputs": [],
   "source": [
    "from torch.nn.functional import cross_entropy\n",
    "\n",
    "def forward_pass_with_label(batch):\n",
    "  inputs = {k:v.to(device) for k,v in batch.items() if k in tokenizer.model_input_names}\n",
    "\n",
    "  with torch.no_grad():\n",
    "    output = model(**inputs)\n",
    "    pred_label = torch.argmax(output.logits, axis=-1)\n",
    "    loss = cross_entropy(output.logits, batch[\"label\"].to(device), reduction=\"none\")\n",
    "\n",
    "  return {\"loss\": loss.cpu().numpy(), \"predicted_label\": pred_label.cpu().numpy()}"
   ]
  },
  {
   "cell_type": "code",
   "execution_count": null,
   "metadata": {
    "colab": {
     "base_uri": "https://localhost:8080/",
     "height": 49,
     "referenced_widgets": [
      "44a54f70e0ac4505879551cccca58b5d",
      "2284edf84ef74c63a9ca7222e3d1aed3",
      "11fde72f3cf44ee7ac10e43b26ca108a",
      "9a811c823cdc4d36a2716277f77068d3",
      "9265a517d90d419989f8a1ebf825f5b6",
      "c761a021c2434b59a791565207f1fb25",
      "25d5e8b9379343939f946ff152570de7",
      "4a192df5d98c410bb8fd8e8527d87da5",
      "f2ef8f4c8b4b4e40805fac28557d2fc7",
      "a9345ab1bc3e4a488309fe0486b21cf1",
      "265e07eb9cc04ac08dc3964653f0ddb1"
     ]
    },
    "id": "M6jsMSAREX9f",
    "outputId": "83676454-8eb7-4c6f-86e0-daf91b9b087a"
   },
   "outputs": [],
   "source": [
    "emotions_encoded.set_format(\"torch\", columns=[\"input_ids\", \"attention_mask\", \"label\"])\n",
    "emotions_encoded[\"validation\"] = emotions_encoded[\"validation\"].map(forward_pass_with_label, batched=True, batch_size=16)"
   ]
  },
  {
   "cell_type": "code",
   "execution_count": null,
   "metadata": {
    "id": "6hsaC_BSGQZr"
   },
   "outputs": [],
   "source": [
    "def label_int2str(row):\n",
    "  return emotions[\"train\"].features[\"label\"].int2str(row)"
   ]
  },
  {
   "cell_type": "code",
   "execution_count": null,
   "metadata": {
    "id": "Yxel8RzjFcbA"
   },
   "outputs": [],
   "source": [
    "emotions_encoded.set_format(\"pandas\")\n",
    "cols = [\"text\", \"label\", \"predicted_label\", \"loss\"]\n",
    "df_test = emotions_encoded[\"validation\"][:][cols]\n",
    "df_test[\"label\"] = df_test[\"label\"].apply(label_int2str)\n",
    "df_test[\"predicted_label\"] = (df_test[\"predicted_label\"].apply(label_int2str))"
   ]
  },
  {
   "cell_type": "code",
   "execution_count": null,
   "metadata": {
    "colab": {
     "base_uri": "https://localhost:8080/",
     "height": 363
    },
    "id": "SEpcEYU7GVZH",
    "outputId": "981e212f-1146-4ed2-c153-c61a1e0f9137"
   },
   "outputs": [],
   "source": [
    "df_test.sort_values(\"loss\", ascending=False).head(10)"
   ]
  },
  {
   "cell_type": "code",
   "execution_count": null,
   "metadata": {
    "colab": {
     "base_uri": "https://localhost:8080/",
     "height": 88
    },
    "id": "-thAJCljGjtE",
    "outputId": "45c04542-2d3b-432f-9a9c-32e4252f95db"
   },
   "outputs": [],
   "source": [
    "trainer.push_to_hub(commit_message=\"Training completed!\")"
   ]
  }
 ],
 "metadata": {
  "colab": {
   "provenance": []
  },
  "kernelspec": {
   "display_name": "Python 3",
   "name": "python3"
  },
  "language_info": {
   "name": "python"
  }
 },
 "nbformat": 4,
 "nbformat_minor": 0
}
